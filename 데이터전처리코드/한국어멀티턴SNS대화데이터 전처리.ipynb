{
 "cells": [
  {
   "cell_type": "code",
   "execution_count": 11,
   "id": "540412fa-e223-4bd9-89bf-25f6f080cb7e",
   "metadata": {},
   "outputs": [
    {
     "name": "stdout",
     "output_type": "stream",
     "text": [
      "🎉 완료! JSONL 생성됨 → C:\\Users\\asia\\Desktop\\파이널프로젝트\\03_데이터전처리\\from_csv_dataset_콘텐츠소비.jsonl\n"
     ]
    }
   ],
   "source": [
    "import pandas as pd\n",
    "import json\n",
    "import random\n",
    "\n",
    "# CSV 경로\n",
    "csv_path = r\"C:\\Users\\asia\\Desktop\\파이널프로젝트\\02_필요데이터셋\\주제분석용 SNS대화데이터\\3.개방데이터\\1.데이터\\Training\\01.원천데이터\\콘텐츠_소비.csv\"\n",
    "output_path = r\"C:\\Users\\asia\\Desktop\\파이널프로젝트\\03_데이터전처리\\from_csv_dataset_콘텐츠소비.jsonl\"\n",
    "\n",
    "\n",
    "# 데이터 불러오기\n",
    "df = pd.read_csv(csv_path, encoding='utf-8-sig')\n",
    "\n",
    "# 대화ID 채우기\n",
    "df['대화ID'] = df['대화ID'].ffill()\n",
    "\n",
    "# 발화 번호 숫자형 변환\n",
    "df['발화 번호'] = pd.to_numeric(df['발화 번호'], errors='coerce')\n",
    "\n",
    "# 발화 번호 1~4만 필터링\n",
    "df_filtered = df[df['발화 번호'].isin([1, 2, 3, 4])]\n",
    "\n",
    "# 그룹화\n",
    "output = []\n",
    "grouped = df_filtered.groupby('대화ID')\n",
    "\n",
    "for _, group in grouped:\n",
    "    if len(output) >= 300:\n",
    "        break\n",
    "\n",
    "    group_sorted = group.sort_values('발화 번호')\n",
    "    utterances = group_sorted['발화'].tolist()\n",
    "\n",
    "    if len(utterances) == 4:\n",
    "        output.append({\n",
    "            \"dialogue_id\": \"\",  # 임시로 빈 값, 나중에 enumerate로 채움\n",
    "            \"utterances\": utterances,\n",
    "            \"target_index\": random.choice([2, 3]),\n",
    "            \"label\": \"\"\n",
    "        })\n",
    "\n",
    "# dialogue_id 순차적으로 부여 \n",
    "dialogue_id_start = 2401  \n",
    "for idx, item in enumerate(output, start=dialogue_id_start):\n",
    "    item['dialogue_id'] = str(idx)\n",
    "\n",
    "# JSONL 저장\n",
    "with open(output_path, 'w', encoding='utf-8') as f:\n",
    "    for item in output:\n",
    "        json.dump(item, f, ensure_ascii=False)\n",
    "        f.write('\\n')\n",
    "\n",
    "print(f\"🎉 완료! JSONL 생성됨 → {output_path}\")"
   ]
  }
 ],
 "metadata": {
  "kernelspec": {
   "display_name": "Python [conda env:base] *",
   "language": "python",
   "name": "conda-base-py"
  },
  "language_info": {
   "codemirror_mode": {
    "name": "ipython",
    "version": 3
   },
   "file_extension": ".py",
   "mimetype": "text/x-python",
   "name": "python",
   "nbconvert_exporter": "python",
   "pygments_lexer": "ipython3",
   "version": "3.12.3"
  }
 },
 "nbformat": 4,
 "nbformat_minor": 5
}
