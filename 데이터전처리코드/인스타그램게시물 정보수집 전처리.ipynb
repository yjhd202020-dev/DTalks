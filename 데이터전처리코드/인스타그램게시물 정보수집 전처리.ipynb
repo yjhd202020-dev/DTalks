{
 "cells": [
  {
   "cell_type": "code",
   "execution_count": 17,
   "id": "51555cfa-ed91-4123-96f9-62bf555f8852",
   "metadata": {},
   "outputs": [
    {
     "name": "stdout",
     "output_type": "stream",
     "text": [
      "Requirement already satisfied: openpyxl in c:\\users\\asia\\anaconda3\\lib\\site-packages (3.1.5)\n",
      "Requirement already satisfied: et-xmlfile in c:\\users\\asia\\anaconda3\\lib\\site-packages (from openpyxl) (1.1.0)\n"
     ]
    }
   ],
   "source": [
    "!pip install openpyxl"
   ]
  },
  {
   "cell_type": "code",
   "execution_count": 61,
   "id": "7dbc74d5-e306-4a78-81a6-b7e44b8d5301",
   "metadata": {},
   "outputs": [
    {
     "name": "stdout",
     "output_type": "stream",
     "text": [
      "                                                   0\n",
      "0  ['mamstouch', '?', '팔로우', '와 이거 이사람 선넘...', '…...\n"
     ]
    }
   ],
   "source": [
    "import pandas as pd\n",
    "import os\n",
    "import openpyxl\n",
    "\n",
    "file_path = r\"C:\\Users\\asia\\Desktop\\파이널프로젝트\\03_데이터전처리\\reels_info20.csv\"\n",
    "output_path = r\"C:\\Users\\asia\\Desktop\\파이널프로젝트\\03_데이터전처리\\인스타그램게시물정보.xlsx\"\n",
    "df = pd.read_csv(file_path, encoding='cp949', header=None)\n",
    "print(df.head())"
   ]
  },
  {
   "cell_type": "code",
   "execution_count": 62,
   "id": "1bc5466d-d04e-4efc-9e16-79bfcca75b92",
   "metadata": {},
   "outputs": [
    {
     "name": "stdout",
     "output_type": "stream",
     "text": [
      "✅ 저장 완료! 총 1개 게시물 저장됨\n",
      "예시 instagram_id: ['mamstouch']\n",
      "예시 content: ['와 이거 이사람 선넘...']\n",
      "예시 comment_count: ['4540']\n"
     ]
    }
   ],
   "source": [
    "# 3. 리스트 초기화\n",
    "instagram_ids = []\n",
    "contents = []\n",
    "comment_counts = []\n",
    "\n",
    "# 4. A열 파싱\n",
    "for row in df.iloc[:, 0]:\n",
    "    cleaned = row.strip(\"[]\")\n",
    "    parts = [p.strip().strip(\"'\") for p in cleaned.split(\",\")]\n",
    "\n",
    "    if len(parts) >= 4 and parts[3].strip() != \"\":\n",
    "        instagram_ids.append(parts[0])\n",
    "        contents.append(parts[3])\n",
    "\n",
    "        # 마지막 항목이 숫자가 아니면 0 처리\n",
    "        last_part = parts[-1]\n",
    "        if last_part.isdigit():\n",
    "            comment_counts.append(last_part)\n",
    "        else:\n",
    "            comment_counts.append(\"0\")\n",
    "\n",
    "# 5. 기존 엑셀에서 시작 index, 행 번호 확인\n",
    "if os.path.exists(output_path):\n",
    "    wb = openpyxl.load_workbook(output_path)\n",
    "    ws = wb.active\n",
    "    last_index = ws.cell(row=ws.max_row, column=1).value\n",
    "    start_index = int(last_index) + 1 if isinstance(last_index, int) else 1\n",
    "    start_row = ws.max_row\n",
    "else:\n",
    "    start_index = 1\n",
    "    start_row = 1\n",
    "\n",
    "# 6. DataFrame 생성\n",
    "result_df = pd.DataFrame({\n",
    "    \"index\": range(start_index, start_index + len(instagram_ids)),\n",
    "    \"instagram_id\": instagram_ids,\n",
    "    \"content\": contents,\n",
    "    \"comment_count\": comment_counts\n",
    "})\n",
    "\n",
    "# 7. 기존 엑셀에 이어붙이기\n",
    "with pd.ExcelWriter(output_path, mode='a', if_sheet_exists='overlay', engine='openpyxl') as writer:\n",
    "    result_df.to_excel(writer, index=False, header=False, startrow=start_row)\n",
    "\n",
    "# 8. 디버깅 출력\n",
    "print(f\"✅ 저장 완료! 총 {len(instagram_ids)}개 게시물 저장됨\")\n",
    "print(\"예시 instagram_id:\", instagram_ids[:3])\n",
    "print(\"예시 content:\", contents[:3])\n",
    "print(\"예시 comment_count:\", comment_counts[:3])"
   ]
  }
 ],
 "metadata": {
  "kernelspec": {
   "display_name": "Python [conda env:base] *",
   "language": "python",
   "name": "conda-base-py"
  },
  "language_info": {
   "codemirror_mode": {
    "name": "ipython",
    "version": 3
   },
   "file_extension": ".py",
   "mimetype": "text/x-python",
   "name": "python",
   "nbconvert_exporter": "python",
   "pygments_lexer": "ipython3",
   "version": "3.12.3"
  }
 },
 "nbformat": 4,
 "nbformat_minor": 5
}
